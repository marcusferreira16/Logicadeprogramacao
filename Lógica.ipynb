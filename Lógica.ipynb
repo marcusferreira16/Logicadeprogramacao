{
  "nbformat": 4,
  "nbformat_minor": 0,
  "metadata": {
    "colab": {
      "name": "Lógica.ipynb",
      "provenance": []
    },
    "kernelspec": {
      "name": "python3",
      "display_name": "Python 3"
    },
    "language_info": {
      "name": "python"
    }
  },
  "cells": [
    {
      "cell_type": "markdown",
      "source": [
        "# **Lógica de programação com Python**\n",
        "\n"
      ],
      "metadata": {
        "id": "0faQiifM9-b8"
      }
    },
    {
      "cell_type": "code",
      "execution_count": null,
      "metadata": {
        "colab": {
          "base_uri": "https://localhost:8080/"
        },
        "id": "nJUlKAM22uHG",
        "outputId": "776ff722-5495-4c55-d24d-7d9c6bcbe973"
      },
      "outputs": [
        {
          "output_type": "execute_result",
          "data": {
            "text/plain": [
              "2"
            ]
          },
          "metadata": {},
          "execution_count": 1
        }
      ],
      "source": [
        "#operação matemática\n",
        "1+1"
      ]
    },
    {
      "cell_type": "code",
      "source": [
        "#para uma palavra, indicar entre aspas:\n",
        "\"Marcus\"\n",
        "#usamos aspas duplas ou aspas simples\n",
        "'Marcus'"
      ],
      "metadata": {
        "colab": {
          "base_uri": "https://localhost:8080/",
          "height": 35
        },
        "id": "Msr-ygwO-SVH",
        "outputId": "a26621eb-a76a-4ffc-c51b-d5f82eabb1bc"
      },
      "execution_count": null,
      "outputs": [
        {
          "output_type": "execute_result",
          "data": {
            "application/vnd.google.colaboratory.intrinsic+json": {
              "type": "string"
            },
            "text/plain": [
              "'Marcus'"
            ]
          },
          "metadata": {},
          "execution_count": 3
        }
      ]
    },
    {
      "cell_type": "code",
      "source": [
        "#armazenar um valor a uma variável\n",
        "nome = 'Marcus'"
      ],
      "metadata": {
        "id": "VYZP8vRs-XTE"
      },
      "execution_count": null,
      "outputs": []
    },
    {
      "cell_type": "code",
      "source": [
        "nome"
      ],
      "metadata": {
        "colab": {
          "base_uri": "https://localhost:8080/",
          "height": 35
        },
        "id": "BVEq3pE2-lw3",
        "outputId": "25a91f01-a864-4b19-b154-9670e3eef27a"
      },
      "execution_count": null,
      "outputs": [
        {
          "output_type": "execute_result",
          "data": {
            "application/vnd.google.colaboratory.intrinsic+json": {
              "type": "string"
            },
            "text/plain": [
              "'Marcus'"
            ]
          },
          "metadata": {},
          "execution_count": 5
        }
      ]
    },
    {
      "cell_type": "code",
      "source": [
        "#guardando a idade\n",
        "idade = 20"
      ],
      "metadata": {
        "id": "fP3H0JTR-m_G"
      },
      "execution_count": null,
      "outputs": []
    },
    {
      "cell_type": "code",
      "source": [
        "idade"
      ],
      "metadata": {
        "colab": {
          "base_uri": "https://localhost:8080/"
        },
        "id": "cmprYqfn-q78",
        "outputId": "e4a6b302-f49e-436a-80e3-daf7b2243957"
      },
      "execution_count": null,
      "outputs": [
        {
          "output_type": "execute_result",
          "data": {
            "text/plain": [
              "20"
            ]
          },
          "metadata": {},
          "execution_count": 7
        }
      ]
    },
    {
      "cell_type": "code",
      "source": [
        "#exibir uma função que descreve seu nome e idade\n",
        "print(\"Meu nome é {} e tenho {} anos\".format(nome, idade))\n",
        "\n",
        "#contudo se eu mudar os parâmetros idade e nome, ele muda automaticamente:\n",
        "nome = 'Leonardo'\n",
        "idade = 25\n",
        "print(\"Meu nome é {} e tenho {} anos\".format(nome, idade))\n"
      ],
      "metadata": {
        "colab": {
          "base_uri": "https://localhost:8080/"
        },
        "id": "mo0kU-SD-ryA",
        "outputId": "58a4d5ff-9977-4ff2-e46b-0e0016e52695"
      },
      "execution_count": null,
      "outputs": [
        {
          "output_type": "stream",
          "name": "stdout",
          "text": [
            "Meu nome é Marcus e tenho 20 anos\n",
            "Meu nome é Leonardo e tenho 25 anos\n"
          ]
        }
      ]
    },
    {
      "cell_type": "markdown",
      "source": [
        "# **Criando minha primeira função**"
      ],
      "metadata": {
        "id": "21KYUbrm_Z-I"
      }
    },
    {
      "cell_type": "code",
      "source": [
        "#criando uma função que pergunta o nome da pessoa e da boas vindas\n",
        "def saudacao():\n",
        "  nome = input('Qual seu nome? ')\n",
        "  print('Olá {}, seja bem vindo'.format(nome))"
      ],
      "metadata": {
        "id": "aP_w-u3b_HrN"
      },
      "execution_count": null,
      "outputs": []
    },
    {
      "cell_type": "code",
      "source": [
        "#chamamos a função sem nenhum parâmetro, porque dentro da função ele pergunta o nome (por meio do Input)\n",
        "saudacao()"
      ],
      "metadata": {
        "colab": {
          "base_uri": "https://localhost:8080/"
        },
        "id": "TkOvoG5r_8sX",
        "outputId": "f7bd0b43-fa5b-4e9a-af1c-5a91bb3e1ebc"
      },
      "execution_count": null,
      "outputs": [
        {
          "output_type": "stream",
          "name": "stdout",
          "text": [
            "Qual seu nome? Marcus\n",
            "Olá Marcus, seja bem vindo\n"
          ]
        }
      ]
    },
    {
      "cell_type": "markdown",
      "source": [
        "# **Parâmetros**"
      ],
      "metadata": {
        "id": "mQTj8YT9Cu0p"
      }
    },
    {
      "cell_type": "code",
      "source": [
        "nome = 'Luiza'"
      ],
      "metadata": {
        "id": "si7YU-FKB3dm"
      },
      "execution_count": null,
      "outputs": []
    },
    {
      "cell_type": "code",
      "source": [
        "#criando uma função com um parâmetro que está fora da função\n",
        "def saudacao_com_parametro(nome_da_pessoa):\n",
        "  print(f'Olá {nome_da_pessoa}')"
      ],
      "metadata": {
        "id": "dUqGlbnBB6zW"
      },
      "execution_count": null,
      "outputs": []
    },
    {
      "cell_type": "code",
      "source": [
        "#chamamos a função e colocamos a variável colocada anteriormente\n",
        "saudacao_com_parametro(nome)"
      ],
      "metadata": {
        "colab": {
          "base_uri": "https://localhost:8080/"
        },
        "id": "oKgoV_AdCOTE",
        "outputId": "ab9a605f-2874-41df-ac6f-86b2277fe807"
      },
      "execution_count": null,
      "outputs": [
        {
          "output_type": "stream",
          "name": "stdout",
          "text": [
            "Olá Luiza\n"
          ]
        }
      ]
    },
    {
      "cell_type": "code",
      "source": [
        "#caso queriamos, podemos também passar o valor, não necessitando de variável criada anteriormente\n",
        "saudacao_com_parametro('Marcus')"
      ],
      "metadata": {
        "colab": {
          "base_uri": "https://localhost:8080/"
        },
        "id": "Ax1yNXa3CjX0",
        "outputId": "005f0495-0793-4599-90d5-45e1edab252f"
      },
      "execution_count": null,
      "outputs": [
        {
          "output_type": "stream",
          "name": "stdout",
          "text": [
            "Olá Marcus\n"
          ]
        }
      ]
    },
    {
      "cell_type": "markdown",
      "source": [
        "# **Condicional**"
      ],
      "metadata": {
        "id": "x1sfjLqpC4I_"
      }
    },
    {
      "cell_type": "code",
      "source": [
        "#criando uma função para ver se a idade pode ou não dirigir\n",
        "idade = 20\n",
        "\n",
        "def verifica_se_pode_dirigir(idade):\n",
        "  if idade >= 18:\n",
        "    print(f\"A pessoa com {idade} anos pode dirigir\")\n",
        "  else:\n",
        "    print(f\"A pessoa com {idade} anos não pode dirigir\")"
      ],
      "metadata": {
        "id": "qQ8aVkeWC8Ux"
      },
      "execution_count": null,
      "outputs": []
    },
    {
      "cell_type": "code",
      "source": [
        "#com a função criada, podemos passar a variável que criamos anteriormente\n",
        "verifica_se_pode_dirigir(idade)"
      ],
      "metadata": {
        "colab": {
          "base_uri": "https://localhost:8080/"
        },
        "id": "z2JsC7rUDl4X",
        "outputId": "c2f8b14f-e71c-448d-ddb2-053e539d1061"
      },
      "execution_count": null,
      "outputs": [
        {
          "output_type": "stream",
          "name": "stdout",
          "text": [
            "A pessoa com 20 anos pode dirigir\n"
          ]
        }
      ]
    },
    {
      "cell_type": "code",
      "source": [
        "#podemos também colocar um valor dentro da função\n",
        "verifica_se_pode_dirigir(6)\n",
        "verifica_se_pode_dirigir(24)"
      ],
      "metadata": {
        "colab": {
          "base_uri": "https://localhost:8080/"
        },
        "id": "EnDsd5K4D6Rj",
        "outputId": "89c5ab17-ae2d-4aa9-ae31-1aff1c5fcd13"
      },
      "execution_count": null,
      "outputs": [
        {
          "output_type": "stream",
          "name": "stdout",
          "text": [
            "A pessoa com 6 anos não pode dirigir\n",
            "A pessoa com 24 anos pode dirigir\n"
          ]
        }
      ]
    },
    {
      "cell_type": "markdown",
      "source": [
        "# **Convertendo o tipo para inteiro**"
      ],
      "metadata": {
        "id": "5iFcCKqkFyLN"
      }
    },
    {
      "cell_type": "code",
      "source": [
        "#criando a mesma função, mas com o valor perguntado na função com input\n",
        "#podemos notar que diferente da função criada anteriormente, usamos o valor como inteiro\n",
        "#dessa forma, é importante convertermos a string (vinda do input) para inteiro (com a função int())\n",
        "def verifica_se_pode_dirigir_sem_parametro():\n",
        "  idade = int(input('Qual sua idade? '))\n",
        "  if idade >= 18:\n",
        "    print(f\"A pessoa com {idade} anos pode dirigir\")\n",
        "  else:\n",
        "    print(f\"A pessoa com {idade} anos não pode dirigir\")"
      ],
      "metadata": {
        "id": "LzHZHhY5EPHY"
      },
      "execution_count": null,
      "outputs": []
    },
    {
      "cell_type": "code",
      "source": [
        "#usamos nossa função sem passar nenhum valor dentro, pois está sendo chamado dentro da função por meio do input\n",
        "verifica_se_pode_dirigir_sem_parametro()"
      ],
      "metadata": {
        "colab": {
          "base_uri": "https://localhost:8080/"
        },
        "id": "mqo3NR6qEpIM",
        "outputId": "557c6553-d49c-487e-8ec6-dae76cf63cf2"
      },
      "execution_count": null,
      "outputs": [
        {
          "output_type": "stream",
          "name": "stdout",
          "text": [
            "Qual sua idade? 25\n",
            "A pessoa com 25 anos pode dirigir\n"
          ]
        }
      ]
    },
    {
      "cell_type": "code",
      "source": [
        "#criando uma função que que calcula a velocidade de acordo com o espaço (em metros) e o tempo levado\n",
        "def calcular_velocidade():\n",
        "  espaco = int(input('Qual é o espaço em metros? '))\n",
        "  tempo = int(input('Qual o tempo em segundos? '))\n",
        "  velocidade = espaco/tempo\n",
        "  print(f'A velocidade é {velocidade} m/s')"
      ],
      "metadata": {
        "id": "0MA8k0vbF9mb"
      },
      "execution_count": null,
      "outputs": []
    },
    {
      "cell_type": "code",
      "source": [
        "#calculando com uma distância de 100 metros em 20 segundos\n",
        "calcular_velocidade()"
      ],
      "metadata": {
        "colab": {
          "base_uri": "https://localhost:8080/"
        },
        "id": "VlGukhZmGZh_",
        "outputId": "3126e964-7b05-433d-9ef3-95b7a6bba5b3"
      },
      "execution_count": null,
      "outputs": [
        {
          "output_type": "stream",
          "name": "stdout",
          "text": [
            "Qual é o espaço em metros? 1000\n",
            "Qual o tempo em segundos? 120\n",
            "A velocidade é 8.333333333333334 m/s\n"
          ]
        }
      ]
    },
    {
      "cell_type": "markdown",
      "source": [
        "# **Lista**"
      ],
      "metadata": {
        "id": "QMLNzYnmH0hf"
      }
    },
    {
      "cell_type": "code",
      "source": [
        "idade = 22\n",
        "nome = 'Marcus'"
      ],
      "metadata": {
        "id": "_8FrUwduH26W"
      },
      "execution_count": null,
      "outputs": []
    },
    {
      "cell_type": "code",
      "source": [
        "type(idade)\n",
        "type(nome)"
      ],
      "metadata": {
        "colab": {
          "base_uri": "https://localhost:8080/"
        },
        "id": "YrdKmY0WH4kz",
        "outputId": "76616f34-5ad5-48f1-e487-896914569daa"
      },
      "execution_count": null,
      "outputs": [
        {
          "output_type": "execute_result",
          "data": {
            "text/plain": [
              "str"
            ]
          },
          "metadata": {},
          "execution_count": 52
        }
      ]
    },
    {
      "cell_type": "code",
      "source": [
        "#armazenando diversos valores em uma única variável por meio da lista\n",
        "idades = [18, 22, 15, 50]"
      ],
      "metadata": {
        "id": "ihoDzQi0H-HX"
      },
      "execution_count": null,
      "outputs": []
    },
    {
      "cell_type": "code",
      "source": [
        "type(idades)"
      ],
      "metadata": {
        "colab": {
          "base_uri": "https://localhost:8080/"
        },
        "id": "8TyWH3fUIJnD",
        "outputId": "0ddf3be5-8798-4e3d-95a9-52dbe39f3a75"
      },
      "execution_count": null,
      "outputs": [
        {
          "output_type": "execute_result",
          "data": {
            "text/plain": [
              "list"
            ]
          },
          "metadata": {},
          "execution_count": 55
        }
      ]
    },
    {
      "cell_type": "code",
      "source": [
        "#caso queiramos pegar o segundo valor fazemos da seguinte forma:\n",
        "idades[1]\n",
        "#mas por que 1 ao invés de 2?\n",
        "#pois o python começa a contar a partir do 0, dessa forma, se quisessemos o primeiro valor fariamos da seguinte forma:\n",
        "idades[0]\n",
        "\n",
        "#o Python olha da seguinte forma:\n",
        "#idades = [18, 22, 15, 50]\n",
        "#          0   1   2   3\n",
        "#          0  -3  -2  -1"
      ],
      "metadata": {
        "colab": {
          "base_uri": "https://localhost:8080/"
        },
        "id": "3BX781HQILo_",
        "outputId": "2390b1d3-17dc-4d83-8000-65c35a73c0c7"
      },
      "execution_count": null,
      "outputs": [
        {
          "output_type": "execute_result",
          "data": {
            "text/plain": [
              "18"
            ]
          },
          "metadata": {},
          "execution_count": 68
        }
      ]
    },
    {
      "cell_type": "code",
      "source": [
        "#caso queriamos pegar os valores 18, 22 e 15 de uma única vez podemos fazer da seguinte forma:\n",
        "idades[0:3]\n",
        "\n",
        "#mas porque até 3 e não até 2?\n",
        "#porque o python tem o último valor como excludente, ou seja, será pego todos os valores antes do último (neste caso, 3)"
      ],
      "metadata": {
        "colab": {
          "base_uri": "https://localhost:8080/"
        },
        "id": "YyMSIH9DIctW",
        "outputId": "f2d9d4fb-8d9d-4f7a-b12c-9f1102d78e80"
      },
      "execution_count": null,
      "outputs": [
        {
          "output_type": "execute_result",
          "data": {
            "text/plain": [
              "[18, 22, 15]"
            ]
          },
          "metadata": {},
          "execution_count": 62
        }
      ]
    },
    {
      "cell_type": "code",
      "source": [
        "#num exemplo semelhante, caso queríamos pegar apenas os vlaores 22, 15 e 50 fazemos da seguinte forma:\n",
        "idades[1:4]\n",
        "#note que o valor da coluna 4 não existe na nossa lista, mas para pegar o valor da coluna 3 precisamos utilizar a menção ao 4\n",
        "\n",
        "#outra forma de fazer de um valor até o final é deixando o segundo espaço vazio:\n",
        "idades[1:]"
      ],
      "metadata": {
        "colab": {
          "base_uri": "https://localhost:8080/"
        },
        "id": "CwYXLfcSJJ3j",
        "outputId": "5ee7f432-59c3-4bd6-8b44-ed7e4791eedf"
      },
      "execution_count": null,
      "outputs": [
        {
          "output_type": "execute_result",
          "data": {
            "text/plain": [
              "[22, 15, 50]"
            ]
          },
          "metadata": {},
          "execution_count": 66
        }
      ]
    },
    {
      "cell_type": "code",
      "source": [
        "#pegando a última idade:\n",
        "idades[3]\n",
        "#ou\n",
        "idades[-1]\n",
        "\n",
        "#normalmente utilizamos a primeira opção, pois é a forma mais clara para outra pessoa entender o que queríamos fazer"
      ],
      "metadata": {
        "colab": {
          "base_uri": "https://localhost:8080/"
        },
        "id": "224tNI_nJoke",
        "outputId": "a0088bc0-d024-45c2-a79f-7db0110a4405"
      },
      "execution_count": null,
      "outputs": [
        {
          "output_type": "execute_result",
          "data": {
            "text/plain": [
              "50"
            ]
          },
          "metadata": {},
          "execution_count": 69
        }
      ]
    },
    {
      "cell_type": "markdown",
      "source": [
        "# **Laços e Loops**"
      ],
      "metadata": {
        "id": "9mG-WDf8KECz"
      }
    },
    {
      "cell_type": "code",
      "source": [
        "#FOR fora da função\n",
        "\n",
        "idades = [18, 22, 15, 50]\n",
        "\n",
        "#utilizando nossa função de idades para entender quais idades das nossas listas podem dirigir\n",
        "def verifica_se_pode_dirigir(idade):\n",
        "  if idade >= 18:\n",
        "    print(f\"A pessoa com {idade} anos tem permissão para dirigir\")\n",
        "  else:\n",
        "    print(f\"A pessoa com {idade} anos NÃO TEM permissão para dirigir\")\n",
        "\n",
        "#\"tradução\" do loop abaixo:\n",
        "#para cada    idade     dentro da     nossa lista\n",
        "#   for       idade        in           idades\n",
        "\n",
        "for idade in idades:\n",
        "  verifica_se_pode_dirigir(idade)"
      ],
      "metadata": {
        "colab": {
          "base_uri": "https://localhost:8080/"
        },
        "id": "FAJGD1HkKGpO",
        "outputId": "9941c11f-7820-496b-b6b5-9fe103eddc9c"
      },
      "execution_count": null,
      "outputs": [
        {
          "output_type": "stream",
          "name": "stdout",
          "text": [
            "A pessoa com 18 anos tem permissão para dirigir\n",
            "A pessoa com 22 anos tem permissão para dirigir\n",
            "A pessoa com 15 anos NÃO TEM permissão para dirigir\n",
            "A pessoa com 50 anos tem permissão para dirigir\n"
          ]
        }
      ]
    },
    {
      "cell_type": "code",
      "source": [
        "#FOR dentro da função\n",
        "#criamos a função que aceita um ou mais parâmetros e dentro dela fazemos nosso loop conforme as condições\n",
        "\n",
        "def verifica_se_pode_dirigir_for(idades): \n",
        "  for idade in idades:\n",
        "    if idade >= 18:\n",
        "      print(f\"A pessoa com {idade} anos tem permissão para dirigir\")\n",
        "    else:\n",
        "      print(f\"A pessoa com {idade} anos NÃO TEM permissão para dirigir\")"
      ],
      "metadata": {
        "colab": {
          "base_uri": "https://localhost:8080/"
        },
        "id": "Q9mFF5XsLy4B",
        "outputId": "52c49543-e91f-4420-d372-0ad1f885b01a"
      },
      "execution_count": null,
      "outputs": [
        {
          "output_type": "stream",
          "name": "stdout",
          "text": [
            "A pessoa com 18 anos tem permissão para dirigir\n",
            "A pessoa com 20 anos tem permissão para dirigir\n",
            "A pessoa com 15 anos NÃO TEM permissão para dirigir\n"
          ]
        }
      ]
    },
    {
      "cell_type": "code",
      "source": [
        "#podendo passar como lista não criada ainda\n",
        "verifica_se_pode_dirigir_for([18,20,15])\n",
        "\n",
        "#podendo passar como uma variável que é uma lista\n",
        "verifica_se_pode_dirigir_for(idades)"
      ],
      "metadata": {
        "colab": {
          "base_uri": "https://localhost:8080/"
        },
        "id": "4EcONgfyMr4h",
        "outputId": "4cf71a82-b8b5-4b2b-860b-d239370f035f"
      },
      "execution_count": null,
      "outputs": [
        {
          "output_type": "stream",
          "name": "stdout",
          "text": [
            "A pessoa com 18 anos tem permissão para dirigir\n",
            "A pessoa com 20 anos tem permissão para dirigir\n",
            "A pessoa com 15 anos NÃO TEM permissão para dirigir\n",
            "A pessoa com 18 anos tem permissão para dirigir\n",
            "A pessoa com 24 anos tem permissão para dirigir\n",
            "A pessoa com 36 anos tem permissão para dirigir\n",
            "A pessoa com 15 anos NÃO TEM permissão para dirigir\n",
            "A pessoa com 10 anos NÃO TEM permissão para dirigir\n"
          ]
        }
      ]
    },
    {
      "cell_type": "code",
      "source": [
        "#Importante ressaltar que podemos criar o loop sem necessidade de criar uma função\n",
        "#no entanto, precisamos criar a lista antes do FOR\n",
        "idades = [18, 24, 36, 15, 10]\n",
        "\n",
        "for idade in idades:\n",
        "  if idade >= 18:\n",
        "    print(f\"A pessoa com {idade} anos tem permissão para dirigir\")\n",
        "  else:\n",
        "    print(f\"A pessoa com {idade} anos NÃO TEM permissão para dirigir\")"
      ],
      "metadata": {
        "colab": {
          "base_uri": "https://localhost:8080/"
        },
        "id": "yWMx2xz7MNCZ",
        "outputId": "8c078cb5-7525-4024-f653-6133abab1cba"
      },
      "execution_count": null,
      "outputs": [
        {
          "output_type": "stream",
          "name": "stdout",
          "text": [
            "A pessoa com 18 anos tem permissão para dirigir\n",
            "A pessoa com 24 anos tem permissão para dirigir\n",
            "A pessoa com 36 anos tem permissão para dirigir\n",
            "A pessoa com 15 anos NÃO TEM permissão para dirigir\n",
            "A pessoa com 10 anos NÃO TEM permissão para dirigir\n"
          ]
        }
      ]
    },
    {
      "cell_type": "markdown",
      "source": [
        "# **Booleano**"
      ],
      "metadata": {
        "id": "-I-YSmVUNHhK"
      }
    },
    {
      "cell_type": "code",
      "source": [
        "#entendendo o tipo booleano (true/false)\n",
        "idade = 18\n",
        "idade >= 18"
      ],
      "metadata": {
        "colab": {
          "base_uri": "https://localhost:8080/"
        },
        "id": "97lQjtlzNJ7z",
        "outputId": "d4863815-2d42-4221-cbb6-51347e84e48e"
      },
      "execution_count": null,
      "outputs": [
        {
          "output_type": "execute_result",
          "data": {
            "text/plain": [
              "True"
            ]
          },
          "metadata": {},
          "execution_count": 79
        }
      ]
    },
    {
      "cell_type": "code",
      "source": [
        "idade = 15\n",
        "idade >= 18"
      ],
      "metadata": {
        "colab": {
          "base_uri": "https://localhost:8080/"
        },
        "id": "VwWJB-2gNXxK",
        "outputId": "54c1f7a5-10cb-4bf7-8612-2fa320386185"
      },
      "execution_count": null,
      "outputs": [
        {
          "output_type": "execute_result",
          "data": {
            "text/plain": [
              "False"
            ]
          },
          "metadata": {},
          "execution_count": 81
        }
      ]
    },
    {
      "cell_type": "code",
      "source": [
        "#criando uma lista para armazenar os nossos valores booleanos de acordo com a condição se pode ou não dirigir\n",
        "#usaremos o loop para percorrer cada valor da nossa lista e usaremos a função append para adicionar o valor em cada campo respectivo\n",
        "permissoes = []\n",
        "idades = [20, 14, 40]\n",
        "\n",
        "def verifica_se_pode_dirigir_list(idades, permissoes):\n",
        "  for idade in idades:\n",
        "    if idade >= 18:\n",
        "      permissoes.append(True)\n",
        "    else:\n",
        "      permissoes.append(False)"
      ],
      "metadata": {
        "id": "wk8z_BDcNcI9"
      },
      "execution_count": null,
      "outputs": []
    },
    {
      "cell_type": "code",
      "source": [
        "#utilizando a função para armanezar os valores boleanos na nossa variável permissoes com base na nossa lista de idades\n",
        "verifica_se_pode_dirigir_list(idades, permissoes)\n",
        "print(permissoes)"
      ],
      "metadata": {
        "colab": {
          "base_uri": "https://localhost:8080/"
        },
        "id": "XGo97dhkOFz5",
        "outputId": "ee264620-f45c-429d-b954-5f5b71732435"
      },
      "execution_count": null,
      "outputs": [
        {
          "output_type": "stream",
          "name": "stdout",
          "text": [
            "[True, False, True]\n"
          ]
        }
      ]
    },
    {
      "cell_type": "code",
      "source": [
        "#criar um loop que mostra se a permissão for TRUE pode dirigir e se for FALSE não pode dirigir\n",
        "for permissao in permissoes:\n",
        "  if permissao == True:\n",
        "    print(\"Tem permissão para dirigir\")\n",
        "  else:\n",
        "    print(\"Não tem permissão para dirigir\")"
      ],
      "metadata": {
        "id": "zsnEsEBTOgdz",
        "colab": {
          "base_uri": "https://localhost:8080/"
        },
        "outputId": "f64fb2ab-6404-4b4c-cdc4-91f55d185943"
      },
      "execution_count": null,
      "outputs": [
        {
          "output_type": "stream",
          "name": "stdout",
          "text": [
            "Tem permissão para dirigir\n",
            "Não tem permissão para dirigir\n",
            "Tem permissão para dirigir\n"
          ]
        }
      ]
    },
    {
      "cell_type": "markdown",
      "source": [
        "# **Tipos em uma lista**"
      ],
      "metadata": {
        "id": "GmTnXArLQNk-"
      }
    },
    {
      "cell_type": "code",
      "source": [
        "#podemos armazenar mais de um tipo de valor em uma lista, como str, int, bool, entre outros\n",
        "lista = ['Marcus', 20, True, '18']\n",
        "\n",
        "#vamos ver o tipo de cada elemento\n",
        "for item in lista:\n",
        "  print(f'O elemento {item} da nossa lista é do tipo:', type(item))"
      ],
      "metadata": {
        "colab": {
          "base_uri": "https://localhost:8080/"
        },
        "id": "SPfqwqJAQQIt",
        "outputId": "b1480620-a29b-431a-9efe-da6c91d77e51"
      },
      "execution_count": null,
      "outputs": [
        {
          "output_type": "stream",
          "name": "stdout",
          "text": [
            "O elemento Marcus da nossa lista é do tipo: <class 'str'>\n",
            "O elemento 20 da nossa lista é do tipo: <class 'int'>\n",
            "O elemento True da nossa lista é do tipo: <class 'bool'>\n",
            "O elemento 18 da nossa lista é do tipo: <class 'str'>\n"
          ]
        }
      ]
    },
    {
      "cell_type": "markdown",
      "source": [
        "# **Import**"
      ],
      "metadata": {
        "id": "JmfL9o2dRksX"
      }
    },
    {
      "cell_type": "code",
      "source": [
        "#importando as funções randrange e seedda biblioteca random\n",
        "from random import randrange, seed"
      ],
      "metadata": {
        "id": "7ydWotWCRZZi"
      },
      "execution_count": null,
      "outputs": []
    },
    {
      "cell_type": "code",
      "source": [
        "#a função seed mantém nosso numero aleatório único, ou seja, gerado uma vez ele não muda mais\n",
        "seed(11)"
      ],
      "metadata": {
        "id": "Wg_3L5IRTHIR"
      },
      "execution_count": null,
      "outputs": []
    },
    {
      "cell_type": "code",
      "source": [
        "#a função randrange trás pra gente um número aleatório dentro do nosso \"range\"\n",
        "#gerando um valor aleatório de 0 até 10\n",
        "randrange(0, 11)"
      ],
      "metadata": {
        "colab": {
          "base_uri": "https://localhost:8080/"
        },
        "id": "-44GpfNZRuDX",
        "outputId": "38c9632f-ff94-4121-b6c0-ca81e4a408df"
      },
      "execution_count": null,
      "outputs": [
        {
          "output_type": "execute_result",
          "data": {
            "text/plain": [
              "7"
            ]
          },
          "metadata": {},
          "execution_count": 154
        }
      ]
    },
    {
      "cell_type": "code",
      "source": [
        "#criando notas de matemática para cada prova no ano, temos 8 provas no ano:\n",
        "\n",
        "#criamos uma lista vazia para guardar as notas\n",
        "notas_matematica = []\n",
        "\n",
        "#para cada nota no range de 8 (8 provas):\n",
        "#guardar o valor gerado aleatóriamente entre 0 a 10.\n",
        "for notas in range(8):\n",
        "  notas_matematica.append(randrange(0,11))\n",
        "\n",
        "notas_matematica"
      ],
      "metadata": {
        "colab": {
          "base_uri": "https://localhost:8080/"
        },
        "id": "tRXQNMagSNLH",
        "outputId": "62391213-6a96-48c7-8f46-45cbff62e6db"
      },
      "execution_count": null,
      "outputs": [
        {
          "output_type": "execute_result",
          "data": {
            "text/plain": [
              "[8, 7, 7, 8, 9, 3, 2, 8]"
            ]
          },
          "metadata": {},
          "execution_count": 155
        }
      ]
    },
    {
      "cell_type": "code",
      "source": [
        "#confirmando se possuem oito notas com a função len()\n",
        "len(notas_matematica)"
      ],
      "metadata": {
        "colab": {
          "base_uri": "https://localhost:8080/"
        },
        "id": "dlCpVir7S0bs",
        "outputId": "6ede6e51-d0bb-487b-c4fc-50c48123c199"
      },
      "execution_count": null,
      "outputs": [
        {
          "output_type": "execute_result",
          "data": {
            "text/plain": [
              "8"
            ]
          },
          "metadata": {},
          "execution_count": 120
        }
      ]
    },
    {
      "cell_type": "markdown",
      "source": [
        "# **Plotando gráficos com Matplotlib**"
      ],
      "metadata": {
        "id": "J3Z-0BGkTwY8"
      }
    },
    {
      "cell_type": "code",
      "source": [
        "#importando a biblioteca matplotlib para criar nosso gráfico\n",
        "import matplotlib.pyplot as plt"
      ],
      "metadata": {
        "id": "dXnrnokuTyso"
      },
      "execution_count": null,
      "outputs": []
    },
    {
      "cell_type": "code",
      "source": [
        "#criar um gráfico com as provas no eixo X, as notas no eixo Y\n",
        "\n",
        "plt.plot(range(1,9),notas_matematica, marker = 'o') #criando o gráfico com bolinhas em cada valor\n",
        "plt.title('Notas no ano') #titulo do gráfico\n",
        "plt.xlabel('Provas') #titulo do eixo X\n",
        "plt.ylabel('Notas') #titulo eixo Y\n",
        "\n",
        "plt.show() #visualizando nosso gráfico"
      ],
      "metadata": {
        "colab": {
          "base_uri": "https://localhost:8080/",
          "height": 295
        },
        "id": "MJfKAvdEULzQ",
        "outputId": "5314002b-955b-4211-830a-94bce5974744"
      },
      "execution_count": null,
      "outputs": [
        {
          "output_type": "display_data",
          "data": {
            "image/png": "[encoded data removed]",
            "text/plain": [
              "<Figure size 432x288 with 1 Axes>"
            ]
          },
          "metadata": {
            "needs_background": "light"
          }
        }
      ]
    }
  ]
}